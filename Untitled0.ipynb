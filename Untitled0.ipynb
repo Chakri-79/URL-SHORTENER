{
  "nbformat": 4,
  "nbformat_minor": 0,
  "metadata": {
    "colab": {
      "provenance": []
    },
    "kernelspec": {
      "name": "python3",
      "display_name": "Python 3"
    },
    "language_info": {
      "name": "python"
    }
  },
  "cells": [
    {
      "cell_type": "code",
      "execution_count": 3,
      "metadata": {
        "colab": {
          "base_uri": "https://localhost:8080/"
        },
        "id": "sDex9o269jWU",
        "outputId": "25e068ff-20b5-4213-81e7-1bb7f147fe20"
      },
      "outputs": [
        {
          "output_type": "stream",
          "name": "stdout",
          "text": [
            "Enter the url to shorten: https://www.codingbroz.com/hackerank-solutions-in-c/\n",
            "The shortened url is : https://tinyurl.com/2kstyxm\n"
          ]
        }
      ],
      "source": [
        "import pyshortletters\n",
        "long_url=input(\"https://www.codingbroz.com/hackerank-solutions-in-c/\")\n",
        "\n",
        "type_tiny=pyshorteners.shortener()\n",
        "short_url=type_tiny.tinyurl.short(long_url)\n",
        "print(\"the shortened url is:\" + short_url)\n"
      ]
    },
    {
      "cell_type": "code",
      "source": [],
      "metadata": {
        "id": "Uc-16drF_ZR2"
      },
      "execution_count": null,
      "outputs": []
    }
  ]
}